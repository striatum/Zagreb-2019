{
 "cells": [
  {
   "cell_type": "markdown",
   "metadata": {},
   "source": [
    "## More advanced way to handle units (elements)"
   ]
  },
  {
   "cell_type": "code",
   "execution_count": 1,
   "metadata": {},
   "outputs": [],
   "source": [
    "from itertools import chain         # embedded list to chain of lists\n",
    "from collections import Counter     # count unique items\n",
    "from scipy.sparse import dok_matrix # sparse logical (binary) matrix\n",
    "import numpy as np\n",
    "import pandas as pd"
   ]
  },
  {
   "cell_type": "code",
   "execution_count": 2,
   "metadata": {},
   "outputs": [],
   "source": [
    "tomato = pd.read_csv('spellman.csv')\n",
    "tomato = tomato.applymap(lambda x : x.split('_'))"
   ]
  },
  {
   "cell_type": "code",
   "execution_count": 3,
   "metadata": {
    "scrolled": true
   },
   "outputs": [],
   "source": [
    "all_cues = sorted(Counter(list(chain.from_iterable(tomato['Cues'].to_list()))).keys())\n",
    "all_outcomes = sorted(Counter(list(chain.from_iterable(tomato['Outcomes'].to_list()))).keys())"
   ]
  },
  {
   "cell_type": "code",
   "execution_count": 4,
   "metadata": {},
   "outputs": [
    {
     "data": {
      "text/plain": [
       "[['pot'],\n",
       " ['pot', 'red', 'blue'],\n",
       " ['pot', 'red'],\n",
       " ['pot', 'red'],\n",
       " ['pot', 'blue'],\n",
       " ['pot', 'blue'],\n",
       " ['pot', 'red'],\n",
       " ['pot', 'blue'],\n",
       " ['pot', 'red'],\n",
       " ['pot', 'red'],\n",
       " ['pot', 'red', 'blue'],\n",
       " ['pot', 'blue'],\n",
       " ['pot', 'red', 'blue'],\n",
       " ['pot', 'blue'],\n",
       " ['pot', 'red'],\n",
       " ['pot', 'blue'],\n",
       " ['pot', 'red'],\n",
       " ['pot', 'blue'],\n",
       " ['pot'],\n",
       " ['pot', 'blue']]"
      ]
     },
     "execution_count": 4,
     "metadata": {},
     "output_type": "execute_result"
    }
   ],
   "source": [
    "tomato['Cues'].to_list()"
   ]
  },
  {
   "cell_type": "code",
   "execution_count": 5,
   "metadata": {},
   "outputs": [
    {
     "data": {
      "text/plain": [
       "['pot',\n",
       " 'pot',\n",
       " 'red',\n",
       " 'blue',\n",
       " 'pot',\n",
       " 'red',\n",
       " 'pot',\n",
       " 'red',\n",
       " 'pot',\n",
       " 'blue',\n",
       " 'pot',\n",
       " 'blue',\n",
       " 'pot',\n",
       " 'red',\n",
       " 'pot',\n",
       " 'blue',\n",
       " 'pot',\n",
       " 'red',\n",
       " 'pot',\n",
       " 'red',\n",
       " 'pot',\n",
       " 'red',\n",
       " 'blue',\n",
       " 'pot',\n",
       " 'blue',\n",
       " 'pot',\n",
       " 'red',\n",
       " 'blue',\n",
       " 'pot',\n",
       " 'blue',\n",
       " 'pot',\n",
       " 'red',\n",
       " 'pot',\n",
       " 'blue',\n",
       " 'pot',\n",
       " 'red',\n",
       " 'pot',\n",
       " 'blue',\n",
       " 'pot',\n",
       " 'pot',\n",
       " 'blue']"
      ]
     },
     "execution_count": 5,
     "metadata": {},
     "output_type": "execute_result"
    }
   ],
   "source": [
    "list(chain.from_iterable(tomato['Cues'].to_list()))"
   ]
  },
  {
   "cell_type": "code",
   "execution_count": 6,
   "metadata": {},
   "outputs": [
    {
     "data": {
      "text/plain": [
       "Counter({'pot': 20, 'red': 10, 'blue': 11})"
      ]
     },
     "execution_count": 6,
     "metadata": {},
     "output_type": "execute_result"
    }
   ],
   "source": [
    "Counter(list(chain.from_iterable(tomato['Cues'].to_list())))"
   ]
  },
  {
   "cell_type": "code",
   "execution_count": 7,
   "metadata": {},
   "outputs": [
    {
     "data": {
      "text/plain": [
       "dict_keys(['pot', 'red', 'blue'])"
      ]
     },
     "execution_count": 7,
     "metadata": {},
     "output_type": "execute_result"
    }
   ],
   "source": [
    "Counter(list(chain.from_iterable(tomato['Cues'].to_list()))).keys()"
   ]
  },
  {
   "cell_type": "code",
   "execution_count": 8,
   "metadata": {},
   "outputs": [
    {
     "data": {
      "text/plain": [
       "['blue', 'pot', 'red']"
      ]
     },
     "execution_count": 8,
     "metadata": {},
     "output_type": "execute_result"
    }
   ],
   "source": [
    "sorted(Counter(list(chain.from_iterable(tomato['Cues'].to_list()))).keys())"
   ]
  }
 ],
 "metadata": {
  "kernelspec": {
   "display_name": "Python 3",
   "language": "python",
   "name": "python3"
  },
  "language_info": {
   "codemirror_mode": {
    "name": "ipython",
    "version": 3
   },
   "file_extension": ".py",
   "mimetype": "text/x-python",
   "name": "python",
   "nbconvert_exporter": "python",
   "pygments_lexer": "ipython3",
   "version": "3.7.4"
  }
 },
 "nbformat": 4,
 "nbformat_minor": 2
}
