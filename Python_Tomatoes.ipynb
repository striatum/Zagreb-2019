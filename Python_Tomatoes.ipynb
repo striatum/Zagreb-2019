{
 "cells": [
  {
   "cell_type": "markdown",
   "metadata": {},
   "source": [
    "# Widrow-Hoff learning from Spellman's (1996) example"
   ]
  },
  {
   "cell_type": "markdown",
   "metadata": {},
   "source": [
    "## Data preparation"
   ]
  },
  {
   "cell_type": "markdown",
   "metadata": {},
   "source": [
    "We need to import necessary libraries and functions:\n",
    "- `chain` from `itertools` makes list *flattening* straightforward and easy (i.e., when you have lists in a list)\n",
    "- `Counter` from `collections` handles elements in a list by making something like a frequency dictionary\n",
    "- `scipy.sparse` handles sparse matrices (a.k.a., n-hot encoding matrices) easy to handle\n",
    "- we also make use of\n",
    "    + `numpy` for all kinds of numeric computing in Python\n",
    "    + `pandas` for dealing with the **PANel DAta Sets** (essentially spreadsheets) with Python Data Analysis Library"
   ]
  },
  {
   "cell_type": "code",
   "execution_count": 1,
   "metadata": {},
   "outputs": [],
   "source": [
    "from itertools import chain         # embedded list to chain of lists\n",
    "from collections import Counter     # count unique items\n",
    "from scipy.sparse import dok_matrix # sparse logical (binary) matrix\n",
    "import numpy as np\n",
    "import pandas as pd"
   ]
  },
  {
   "cell_type": "markdown",
   "metadata": {},
   "source": [
    "We are ready to read the table (formated as `csv` - comma separated values) and show the first few lines:"
   ]
  },
  {
   "cell_type": "code",
   "execution_count": 2,
   "metadata": {
    "scrolled": true
   },
   "outputs": [
    {
     "data": {
      "text/html": [
       "<div>\n",
       "<style scoped>\n",
       "    .dataframe tbody tr th:only-of-type {\n",
       "        vertical-align: middle;\n",
       "    }\n",
       "\n",
       "    .dataframe tbody tr th {\n",
       "        vertical-align: top;\n",
       "    }\n",
       "\n",
       "    .dataframe thead th {\n",
       "        text-align: right;\n",
       "    }\n",
       "</style>\n",
       "<table border=\"1\" class=\"dataframe\">\n",
       "  <thead>\n",
       "    <tr style=\"text-align: right;\">\n",
       "      <th></th>\n",
       "      <th>Cues</th>\n",
       "      <th>Outcomes</th>\n",
       "    </tr>\n",
       "  </thead>\n",
       "  <tbody>\n",
       "    <tr>\n",
       "      <th>0</th>\n",
       "      <td>pot</td>\n",
       "      <td>NO.TOMATO</td>\n",
       "    </tr>\n",
       "    <tr>\n",
       "      <th>1</th>\n",
       "      <td>pot_red_blue</td>\n",
       "      <td>TOMATO</td>\n",
       "    </tr>\n",
       "    <tr>\n",
       "      <th>2</th>\n",
       "      <td>pot_red</td>\n",
       "      <td>TOMATO</td>\n",
       "    </tr>\n",
       "    <tr>\n",
       "      <th>3</th>\n",
       "      <td>pot_red</td>\n",
       "      <td>NO.TOMATO</td>\n",
       "    </tr>\n",
       "    <tr>\n",
       "      <th>4</th>\n",
       "      <td>pot_blue</td>\n",
       "      <td>TOMATO</td>\n",
       "    </tr>\n",
       "  </tbody>\n",
       "</table>\n",
       "</div>"
      ],
      "text/plain": [
       "           Cues   Outcomes\n",
       "0           pot  NO.TOMATO\n",
       "1  pot_red_blue     TOMATO\n",
       "2       pot_red     TOMATO\n",
       "3       pot_red  NO.TOMATO\n",
       "4      pot_blue     TOMATO"
      ]
     },
     "execution_count": 2,
     "metadata": {},
     "output_type": "execute_result"
    }
   ],
   "source": [
    "tomato = pd.read_csv('spellman.csv')\n",
    "tomato.head()"
   ]
  },
  {
   "cell_type": "markdown",
   "metadata": {},
   "source": [
    "- rows $\\rightarrow$ learning events\n",
    "- columns $\\rightarrow$\n",
    "    + Cues : input units\n",
    "    + Outcomes : output units (a.k.a., targets or teachers or criteria)"
   ]
  },
  {
   "cell_type": "markdown",
   "metadata": {},
   "source": [
    "From the begining of our work on and use of the **Naive Discrimination Learning** (NDL), we developed certain \"taste\". In that, we had to have some *special characters* - jokers:\n",
    "- `#`, if we are dealing with the continuous text, we use hashtags to mark the begining and the end of an item (usually a word)\n",
    "- `_`, separates the items\n",
    "\n",
    "Thus, from the above table, we can see that in the 2nd learning trial we have all three input units present. We can make sure that Python \"understands\" that there are three elements (or two, or one, given a learning trial):"
   ]
  },
  {
   "cell_type": "code",
   "execution_count": 3,
   "metadata": {},
   "outputs": [
    {
     "data": {
      "text/html": [
       "<div>\n",
       "<style scoped>\n",
       "    .dataframe tbody tr th:only-of-type {\n",
       "        vertical-align: middle;\n",
       "    }\n",
       "\n",
       "    .dataframe tbody tr th {\n",
       "        vertical-align: top;\n",
       "    }\n",
       "\n",
       "    .dataframe thead th {\n",
       "        text-align: right;\n",
       "    }\n",
       "</style>\n",
       "<table border=\"1\" class=\"dataframe\">\n",
       "  <thead>\n",
       "    <tr style=\"text-align: right;\">\n",
       "      <th></th>\n",
       "      <th>Cues</th>\n",
       "      <th>Outcomes</th>\n",
       "    </tr>\n",
       "  </thead>\n",
       "  <tbody>\n",
       "    <tr>\n",
       "      <th>0</th>\n",
       "      <td>[pot]</td>\n",
       "      <td>[NO.TOMATO]</td>\n",
       "    </tr>\n",
       "    <tr>\n",
       "      <th>1</th>\n",
       "      <td>[pot, red, blue]</td>\n",
       "      <td>[TOMATO]</td>\n",
       "    </tr>\n",
       "    <tr>\n",
       "      <th>2</th>\n",
       "      <td>[pot, red]</td>\n",
       "      <td>[TOMATO]</td>\n",
       "    </tr>\n",
       "    <tr>\n",
       "      <th>3</th>\n",
       "      <td>[pot, red]</td>\n",
       "      <td>[NO.TOMATO]</td>\n",
       "    </tr>\n",
       "    <tr>\n",
       "      <th>4</th>\n",
       "      <td>[pot, blue]</td>\n",
       "      <td>[TOMATO]</td>\n",
       "    </tr>\n",
       "  </tbody>\n",
       "</table>\n",
       "</div>"
      ],
      "text/plain": [
       "               Cues     Outcomes\n",
       "0             [pot]  [NO.TOMATO]\n",
       "1  [pot, red, blue]     [TOMATO]\n",
       "2        [pot, red]     [TOMATO]\n",
       "3        [pot, red]  [NO.TOMATO]\n",
       "4       [pot, blue]     [TOMATO]"
      ]
     },
     "execution_count": 3,
     "metadata": {},
     "output_type": "execute_result"
    }
   ],
   "source": [
    "tomato = tomato.applymap(lambda x : x.split('_'))\n",
    "tomato.head()"
   ]
  },
  {
   "cell_type": "markdown",
   "metadata": {},
   "source": [
    "In this example we have very few cues, so we can specify them by hand:"
   ]
  },
  {
   "cell_type": "code",
   "execution_count": 4,
   "metadata": {},
   "outputs": [],
   "source": [
    "all_cues = ['pot', 'red', 'blue']\n",
    "all_outcomes = ['TOMATO', 'NO.TOMATO']"
   ]
  },
  {
   "cell_type": "markdown",
   "metadata": {},
   "source": [
    "If you have many cues and/or outcomes, Python can handle them and give you back the unique ones!\n",
    "\n",
    "[GitHub](https://github.com/striatum/Zagreb-2019.git)\n",
    "[![Binder](https://mybinder.org/badge_logo.svg)](https://mybinder.org/v2/gh/striatum/Zagreb-2019/master?filepath=Automatic_cue_outcome_handling.ipynb)\n"
   ]
  },
  {
   "cell_type": "markdown",
   "metadata": {},
   "source": [
    "Let Python know how many learning events (trials), and how many input units (cues) and output units (outcomes) we have :"
   ]
  },
  {
   "cell_type": "code",
   "execution_count": 5,
   "metadata": {},
   "outputs": [],
   "source": [
    "num_events = len(tomato.index)\n",
    "num_cues = len(all_cues)\n",
    "num_outcomes = len(all_outcomes)"
   ]
  },
  {
   "cell_type": "markdown",
   "metadata": {},
   "source": [
    "The above table format might be easily readable for us, humans, but learing machines prefer more straightforward formating (where everything is \"spelled out\"). Thus, many ready-made libraries and packages for Machine Learning (ML) like to use something that is called **n-hot encoding**.\n",
    "\n",
    "Let's make one and it will be clear what that means..."
   ]
  },
  {
   "cell_type": "markdown",
   "metadata": {},
   "source": [
    "**[1]** Create two empty matrices, one for cues, one for outcomes:"
   ]
  },
  {
   "cell_type": "code",
   "execution_count": 6,
   "metadata": {},
   "outputs": [],
   "source": [
    "cue_matrix = dok_matrix((num_events, num_cues), dtype=np.bool)\n",
    "outcome_matrix = dok_matrix((num_events, num_outcomes), dtype=np.bool)"
   ]
  },
  {
   "cell_type": "markdown",
   "metadata": {},
   "source": [
    "**[2]** Run through our original table, row-by-row, and \"flag\" if cue is present or not (1/0) and if outcome is present or not (1/0):"
   ]
  },
  {
   "cell_type": "code",
   "execution_count": 7,
   "metadata": {},
   "outputs": [],
   "source": [
    "for idx, row in tomato.iterrows():\n",
    "\tfor cue in row['Cues']:\n",
    "\t\tcue_index = all_cues.index(cue)\n",
    "\t\tcue_matrix[idx, cue_index] = True\n",
    "\tfor outcome in row['Outcomes']:\n",
    "\t\toutcome_index = all_outcomes.index(outcome)\n",
    "\t\toutcome_matrix[idx, outcome_index] = True"
   ]
  },
  {
   "cell_type": "markdown",
   "metadata": {},
   "source": [
    "**[3]** This step is not necessary but it will help us read the resulting tables of cues and outcomes (otherwise, sparse matrices are cool for Python and/or other programming languages but less so for us, humans; Note that machines could struggle with our prefered ways of spreadsheeting and vice versa - we would struggle to read machine-prefered tables!)"
   ]
  },
  {
   "cell_type": "code",
   "execution_count": 8,
   "metadata": {},
   "outputs": [],
   "source": [
    "cue_nhot_matrix = pd.DataFrame(cue_matrix.todense().tolist(),\n",
    "\tcolumns=all_cues, dtype=int)\n",
    "outcome_nhot_matrix = pd.DataFrame(outcome_matrix.todense().tolist(),\n",
    "\tcolumns=all_outcomes, dtype=int)"
   ]
  },
  {
   "cell_type": "code",
   "execution_count": 9,
   "metadata": {},
   "outputs": [
    {
     "data": {
      "text/html": [
       "<div>\n",
       "<style scoped>\n",
       "    .dataframe tbody tr th:only-of-type {\n",
       "        vertical-align: middle;\n",
       "    }\n",
       "\n",
       "    .dataframe tbody tr th {\n",
       "        vertical-align: top;\n",
       "    }\n",
       "\n",
       "    .dataframe thead th {\n",
       "        text-align: right;\n",
       "    }\n",
       "</style>\n",
       "<table border=\"1\" class=\"dataframe\">\n",
       "  <thead>\n",
       "    <tr style=\"text-align: right;\">\n",
       "      <th></th>\n",
       "      <th>pot</th>\n",
       "      <th>red</th>\n",
       "      <th>blue</th>\n",
       "      <th>TOMATO</th>\n",
       "      <th>NO.TOMATO</th>\n",
       "    </tr>\n",
       "  </thead>\n",
       "  <tbody>\n",
       "    <tr>\n",
       "      <th>0</th>\n",
       "      <td>1</td>\n",
       "      <td>0</td>\n",
       "      <td>0</td>\n",
       "      <td>0</td>\n",
       "      <td>1</td>\n",
       "    </tr>\n",
       "    <tr>\n",
       "      <th>1</th>\n",
       "      <td>1</td>\n",
       "      <td>1</td>\n",
       "      <td>1</td>\n",
       "      <td>1</td>\n",
       "      <td>0</td>\n",
       "    </tr>\n",
       "    <tr>\n",
       "      <th>2</th>\n",
       "      <td>1</td>\n",
       "      <td>1</td>\n",
       "      <td>0</td>\n",
       "      <td>1</td>\n",
       "      <td>0</td>\n",
       "    </tr>\n",
       "    <tr>\n",
       "      <th>3</th>\n",
       "      <td>1</td>\n",
       "      <td>1</td>\n",
       "      <td>0</td>\n",
       "      <td>0</td>\n",
       "      <td>1</td>\n",
       "    </tr>\n",
       "    <tr>\n",
       "      <th>4</th>\n",
       "      <td>1</td>\n",
       "      <td>0</td>\n",
       "      <td>1</td>\n",
       "      <td>1</td>\n",
       "      <td>0</td>\n",
       "    </tr>\n",
       "  </tbody>\n",
       "</table>\n",
       "</div>"
      ],
      "text/plain": [
       "   pot  red  blue  TOMATO  NO.TOMATO\n",
       "0    1    0     0       0          1\n",
       "1    1    1     1       1          0\n",
       "2    1    1     0       1          0\n",
       "3    1    1     0       0          1\n",
       "4    1    0     1       1          0"
      ]
     },
     "execution_count": 9,
     "metadata": {},
     "output_type": "execute_result"
    }
   ],
   "source": [
    "pd.concat([cue_nhot_matrix.reset_index(drop=True), outcome_nhot_matrix], axis=1).head()"
   ]
  },
  {
   "cell_type": "markdown",
   "metadata": {},
   "source": [
    "## The training"
   ]
  },
  {
   "cell_type": "markdown",
   "metadata": {},
   "source": [
    "Now, we are ready to start our training. The only missing bit is to make our own *function* that will handle the weight updating:\n",
    "\n",
    "\n",
    "$$ \\Delta w_{i} = \\gamma \\times (t - y_{in}) \\times x_{i} $$\n"
   ]
  },
  {
   "cell_type": "code",
   "execution_count": 10,
   "metadata": {},
   "outputs": [],
   "source": [
    "def update_weights(cues, outcomes, old_weights, learning_rate):\n",
    "\tnew_weights = old_weights + (learning_rate * cues.T * (outcomes - (cues * old_weights)))\n",
    "\treturn(new_weights)"
   ]
  },
  {
   "cell_type": "markdown",
   "metadata": {},
   "source": [
    "First, we need to prepare an empty matrix that will keep the booking of all weights - for each cue-outcome combination:"
   ]
  },
  {
   "cell_type": "code",
   "execution_count": 11,
   "metadata": {},
   "outputs": [],
   "source": [
    "weight_matrix = np.zeros((num_cues, num_outcomes))"
   ]
  },
  {
   "cell_type": "markdown",
   "metadata": {},
   "source": [
    "Second, we ask Python to go through the tables of cues and outcomes, for-by-row (or learning trial by learning trial), and update the weights accordingly:\n",
    "\n",
    "$$\n",
    "\\Delta w_{i} =\n",
    "\\begin{cases}\n",
    "    \\text{cue ABSENT} &\\rightarrow \\textsf{nothing happens} &\\rightarrow 0 \\\\\n",
    "    \\text{cue PRESENT & outcome PRESENT} &\\rightarrow \\textsf{positive evidence} &\\rightarrow \\gamma \\times (1 - y_{in}) \\times x_{i} \\\\\n",
    "        \\text{cue PRESENT & outcome ABSENT} &\\rightarrow \\textsf{negative evidence} &\\rightarrow \\gamma \\times (0 - y_{in}) \\times x_{i}\n",
    "\\end{cases}\n",
    "$$\n"
   ]
  },
  {
   "cell_type": "markdown",
   "metadata": {},
   "source": [
    "Let's first train only on the first three learning trials (events) to see whether Python will give us the same results that we got in our \"paper-and-pencil\" exercise:"
   ]
  },
  {
   "cell_type": "code",
   "execution_count": 12,
   "metadata": {},
   "outputs": [],
   "source": [
    "for idx in range(3):\n",
    "\tcurrent_cues = np.matrix(cue_nhot_matrix.iloc[idx,])\n",
    "\tcurrent_outcomes = np.matrix(outcome_nhot_matrix.iloc[idx,])\n",
    "\tweight_matrix = update_weights(\n",
    "\t\tcues=current_cues,\n",
    "\t\toutcomes=current_outcomes,\n",
    "\t\told_weights=weight_matrix,\n",
    "\t\tlearning_rate = 0.01)"
   ]
  },
  {
   "cell_type": "markdown",
   "metadata": {},
   "source": [
    "Finally, we can display the table of weights:"
   ]
  },
  {
   "cell_type": "code",
   "execution_count": 13,
   "metadata": {},
   "outputs": [
    {
     "data": {
      "text/html": [
       "<div>\n",
       "<style scoped>\n",
       "    .dataframe tbody tr th:only-of-type {\n",
       "        vertical-align: middle;\n",
       "    }\n",
       "\n",
       "    .dataframe tbody tr th {\n",
       "        vertical-align: top;\n",
       "    }\n",
       "\n",
       "    .dataframe thead th {\n",
       "        text-align: right;\n",
       "    }\n",
       "</style>\n",
       "<table border=\"1\" class=\"dataframe\">\n",
       "  <thead>\n",
       "    <tr style=\"text-align: right;\">\n",
       "      <th></th>\n",
       "      <th>TOMATO</th>\n",
       "      <th>NO.TOMATO</th>\n",
       "    </tr>\n",
       "  </thead>\n",
       "  <tbody>\n",
       "    <tr>\n",
       "      <th>pot</th>\n",
       "      <td>0.0198</td>\n",
       "      <td>0.009802</td>\n",
       "    </tr>\n",
       "    <tr>\n",
       "      <th>red</th>\n",
       "      <td>0.0198</td>\n",
       "      <td>-0.000198</td>\n",
       "    </tr>\n",
       "    <tr>\n",
       "      <th>blue</th>\n",
       "      <td>0.0100</td>\n",
       "      <td>-0.000100</td>\n",
       "    </tr>\n",
       "  </tbody>\n",
       "</table>\n",
       "</div>"
      ],
      "text/plain": [
       "      TOMATO  NO.TOMATO\n",
       "pot   0.0198   0.009802\n",
       "red   0.0198  -0.000198\n",
       "blue  0.0100  -0.000100"
      ]
     },
     "execution_count": 13,
     "metadata": {},
     "output_type": "execute_result"
    }
   ],
   "source": [
    "pd.DataFrame(weight_matrix, index=all_cues, columns=all_outcomes)"
   ]
  },
  {
   "cell_type": "markdown",
   "metadata": {},
   "source": [
    "### Train over the full learning session (all learning trials or events)"
   ]
  },
  {
   "cell_type": "code",
   "execution_count": 14,
   "metadata": {},
   "outputs": [],
   "source": [
    "weight_matrix_full = np.zeros((num_cues, num_outcomes))"
   ]
  },
  {
   "cell_type": "code",
   "execution_count": 15,
   "metadata": {},
   "outputs": [],
   "source": [
    "for idx in range(num_events):\n",
    "\tcurrent_cues = np.matrix(cue_nhot_matrix.iloc[idx,])\n",
    "\tcurrent_outcomes = np.matrix(outcome_nhot_matrix.iloc[idx,])\n",
    "\tweight_matrix_full = update_weights(\n",
    "\t\tcues=current_cues,\n",
    "\t\toutcomes=current_outcomes,\n",
    "\t\told_weights=weight_matrix_full,\n",
    "\t\tlearning_rate = 0.01)"
   ]
  },
  {
   "cell_type": "code",
   "execution_count": 16,
   "metadata": {},
   "outputs": [
    {
     "data": {
      "text/html": [
       "<div>\n",
       "<style scoped>\n",
       "    .dataframe tbody tr th:only-of-type {\n",
       "        vertical-align: middle;\n",
       "    }\n",
       "\n",
       "    .dataframe tbody tr th {\n",
       "        vertical-align: top;\n",
       "    }\n",
       "\n",
       "    .dataframe thead th {\n",
       "        text-align: right;\n",
       "    }\n",
       "</style>\n",
       "<table border=\"1\" class=\"dataframe\">\n",
       "  <thead>\n",
       "    <tr style=\"text-align: right;\">\n",
       "      <th></th>\n",
       "      <th>TOMATO</th>\n",
       "      <th>NO.TOMATO</th>\n",
       "    </tr>\n",
       "  </thead>\n",
       "  <tbody>\n",
       "    <tr>\n",
       "      <th>pot</th>\n",
       "      <td>0.092879</td>\n",
       "      <td>0.080708</td>\n",
       "    </tr>\n",
       "    <tr>\n",
       "      <th>red</th>\n",
       "      <td>0.071453</td>\n",
       "      <td>0.015968</td>\n",
       "    </tr>\n",
       "    <tr>\n",
       "      <th>blue</th>\n",
       "      <td>0.049492</td>\n",
       "      <td>0.043993</td>\n",
       "    </tr>\n",
       "  </tbody>\n",
       "</table>\n",
       "</div>"
      ],
      "text/plain": [
       "        TOMATO  NO.TOMATO\n",
       "pot   0.092879   0.080708\n",
       "red   0.071453   0.015968\n",
       "blue  0.049492   0.043993"
      ]
     },
     "execution_count": 16,
     "metadata": {},
     "output_type": "execute_result"
    }
   ],
   "source": [
    "pd.DataFrame(weight_matrix_full, index=all_cues, columns=all_outcomes)"
   ]
  }
 ],
 "metadata": {
  "kernelspec": {
   "display_name": "Python 3",
   "language": "python",
   "name": "python3"
  },
  "language_info": {
   "codemirror_mode": {
    "name": "ipython",
    "version": 3
   },
   "file_extension": ".py",
   "mimetype": "text/x-python",
   "name": "python",
   "nbconvert_exporter": "python",
   "pygments_lexer": "ipython3",
   "version": "3.7.4"
  }
 },
 "nbformat": 4,
 "nbformat_minor": 2
}
