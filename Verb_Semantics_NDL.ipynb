{
 "cells": [
  {
   "cell_type": "markdown",
   "metadata": {},
   "source": [
    "## Verb's usage-based meaning using Naive Discrimination Learning library `pyndl`"
   ]
  },
  {
   "cell_type": "markdown",
   "metadata": {},
   "source": [
    "We will again use `pandas` and the special library that handles discrimination learning `pyndl`. We will also need `random` library to shuffle the learning events, and `gzip` to pack the input ready file."
   ]
  },
  {
   "cell_type": "code",
   "execution_count": 23,
   "metadata": {},
   "outputs": [],
   "source": [
    "import pyndl\n",
    "import random\n",
    "import gzip\n",
    "import pandas as pd"
   ]
  },
  {
   "cell_type": "markdown",
   "metadata": {},
   "source": [
    "Since we have a frequency table, let's make two convenience functions:\n",
    "\n",
    "- to expand frequency table into a randomized event file $\\rightarrow$ `expand_to_events()`\n",
    "- to convert `*.csv` event file into a tab-separated `*.gz` file, which is what `pyndl` expects as input file"
   ]
  },
  {
   "cell_type": "code",
   "execution_count": 24,
   "metadata": {},
   "outputs": [],
   "source": [
    "def expand_to_events(_infile, _outfile):\n",
    "    lst = list()\n",
    "    with open(_infile, 'r') as infile:\n",
    "        with open(_outfile, 'w') as outfile:\n",
    "            infile.readline()\n",
    "            outfile.write('Cues\\tOutcomes\\n')\n",
    "            for line in infile:\n",
    "                line = line.strip().split(',')\n",
    "                row = line[0] + '\\t' + line[1]\n",
    "                how_many = int(line[2])\n",
    "                for i in range(how_many):\n",
    "                    lst.append(row)\n",
    "            lst = random.sample(lst, len(lst))\n",
    "            for element in lst:\n",
    "                outfile.write('%s\\n' % element)"
   ]
  },
  {
   "cell_type": "code",
   "execution_count": 25,
   "metadata": {},
   "outputs": [],
   "source": [
    "def convert_csv_to_ndl_events(_infile, _outfile):\n",
    "    with open(_infile, 'r') as infile:\n",
    "        with gzip.open(_outfile, 'wt') as outfile:\n",
    "            for event in infile:\n",
    "                event = event.replace(',', '\\t')\n",
    "                outfile.write(event)"
   ]
  },
  {
   "cell_type": "markdown",
   "metadata": {},
   "source": [
    "### Running the main part:"
   ]
  },
  {
   "cell_type": "code",
   "execution_count": 26,
   "metadata": {},
   "outputs": [],
   "source": [
    "expand_to_events('semantic_example_frequencies.csv', 'semantic_example_events.tsv')"
   ]
  },
  {
   "cell_type": "code",
   "execution_count": 27,
   "metadata": {},
   "outputs": [],
   "source": [
    "convert_csv_to_ndl_events('semantic_example_events.tsv', 'semantic_example.gz')"
   ]
  },
  {
   "cell_type": "code",
   "execution_count": 29,
   "metadata": {},
   "outputs": [
    {
     "ename": "AttributeError",
     "evalue": "module 'pyndl' has no attribute 'ndl'",
     "output_type": "error",
     "traceback": [
      "\u001b[0;31m---------------------------------------------------------------------------\u001b[0m",
      "\u001b[0;31mAttributeError\u001b[0m                            Traceback (most recent call last)",
      "\u001b[0;32m<ipython-input-29-e0fd568db4de>\u001b[0m in \u001b[0;36m<module>\u001b[0;34m\u001b[0m\n\u001b[0;32m----> 1\u001b[0;31m weights = pyndl.ndl.ndl(events='semantic_example.gz',\n\u001b[0m\u001b[1;32m      2\u001b[0m                   \u001b[0malpha\u001b[0m\u001b[0;34m=\u001b[0m\u001b[0;36m0.1\u001b[0m\u001b[0;34m,\u001b[0m\u001b[0;34m\u001b[0m\u001b[0;34m\u001b[0m\u001b[0m\n\u001b[1;32m      3\u001b[0m                   \u001b[0mbetas\u001b[0m\u001b[0;34m=\u001b[0m\u001b[0;34m(\u001b[0m\u001b[0;36m0.1\u001b[0m\u001b[0;34m,\u001b[0m \u001b[0;36m0.1\u001b[0m\u001b[0;34m)\u001b[0m\u001b[0;34m,\u001b[0m\u001b[0;34m\u001b[0m\u001b[0;34m\u001b[0m\u001b[0m\n\u001b[1;32m      4\u001b[0m                   method='openmp')\n",
      "\u001b[0;31mAttributeError\u001b[0m: module 'pyndl' has no attribute 'ndl'"
     ]
    }
   ],
   "source": [
    "weights = pyndl.ndl.ndl(events='semantic_example.gz',\n",
    "                  alpha=0.1,\n",
    "                  betas=(0.1, 0.1),\n",
    "                  method='openmp')"
   ]
  },
  {
   "cell_type": "code",
   "execution_count": 11,
   "metadata": {},
   "outputs": [
    {
     "data": {
      "text/plain": [
       "array([[ 0.30343145,  0.2068178 ],\n",
       "       [ 0.01703928, -0.00202258],\n",
       "       [ 0.09092098, -0.01407596],\n",
       "       [ 0.12485467,  0.04822739],\n",
       "       [ 0.0178995 ,  0.06379365],\n",
       "       [ 0.03832665,  0.11479813],\n",
       "       [ 0.01439036, -0.00390283]])"
      ]
     },
     "execution_count": 11,
     "metadata": {},
     "output_type": "execute_result"
    }
   ],
   "source": [
    "weights.values.T"
   ]
  },
  {
   "cell_type": "code",
   "execution_count": 12,
   "metadata": {},
   "outputs": [
    {
     "data": {
      "text/plain": [
       "['commence', 'journey', 'machine', 'movie', 'day', 'meeting', 'business']"
      ]
     },
     "execution_count": 12,
     "metadata": {},
     "output_type": "execute_result"
    }
   ],
   "source": [
    "list(weights.cues.values)"
   ]
  },
  {
   "cell_type": "code",
   "execution_count": 13,
   "metadata": {},
   "outputs": [
    {
     "data": {
      "text/plain": [
       "['START', 'BEGIN']"
      ]
     },
     "execution_count": 13,
     "metadata": {},
     "output_type": "execute_result"
    }
   ],
   "source": [
    "list(weights.outcomes.values)"
   ]
  }
 ],
 "metadata": {
  "kernelspec": {
   "display_name": "Python 3",
   "language": "python",
   "name": "python3"
  },
  "language_info": {
   "codemirror_mode": {
    "name": "ipython",
    "version": 3
   },
   "file_extension": ".py",
   "mimetype": "text/x-python",
   "name": "python",
   "nbconvert_exporter": "python",
   "pygments_lexer": "ipython3",
   "version": "3.7.4"
  }
 },
 "nbformat": 4,
 "nbformat_minor": 2
}
